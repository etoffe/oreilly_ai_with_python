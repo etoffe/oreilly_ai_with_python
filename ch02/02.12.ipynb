{
 "cells": [
  {
   "cell_type": "code",
   "execution_count": 1,
   "metadata": {},
   "outputs": [],
   "source": [
    "#2.12"
   ]
  },
  {
   "cell_type": "code",
   "execution_count": 2,
   "metadata": {},
   "outputs": [],
   "source": [
    "import numpy as np\n",
    "from sklearn import linear_model\n",
    "import sklearn.metrics as sm"
   ]
  },
  {
   "cell_type": "code",
   "execution_count": 3,
   "metadata": {},
   "outputs": [
    {
     "name": "stdout",
     "output_type": "stream",
     "text": [
      "Linear Regressor performance:\n",
      "Mean absolute error = 3.64\n",
      "Mean squared error = 20.9\n",
      "Median absolute error = 3.1\n",
      "Explained variance score = 0.86\n",
      "R2 score = 0.86\n"
     ]
    }
   ],
   "source": [
    "input_file = 'data_multivar_regr.txt'\n",
    "data = np.loadtxt(input_file, delimiter=',')\n",
    "X, y = data[:, :-1], data[:, -1]\n",
    "\n",
    "linear_regressor = linear_model.LinearRegression()\n",
    "linear_regressor.fit(X, y)\n",
    "\n",
    "y_pred = linear_regressor.predict(X)\n",
    "\n",
    "print(\"Linear Regressor performance:\")\n",
    "print(\"Mean absolute error =\", round(sm.mean_absolute_error(y, y_pred), 2))\n",
    "print(\"Mean squared error =\", round(sm.mean_squared_error(y, y_pred), 2))\n",
    "print(\"Median absolute error =\",\n",
    "     round(sm.median_absolute_error(y, y_pred), 2))\n",
    "print(\"Explained variance score =\",\n",
    "     round(sm.explained_variance_score(y, y_pred), 2))\n",
    "print(\"R2 score =\", round(sm.r2_score(y, y_pred), 2))"
   ]
  },
  {
   "cell_type": "code",
   "execution_count": 4,
   "metadata": {},
   "outputs": [
    {
     "name": "stdout",
     "output_type": "stream",
     "text": [
      "Linear regression:\n",
      " [10.82449559 17.3818526   3.29725309 38.64955824 10.41302956]\n",
      "True output values:\n",
      " [15.69 15.34  0.66 38.37  9.96]\n"
     ]
    }
   ],
   "source": [
    "print(\"Linear regression:\\n\", linear_regressor.predict(X[0:5]))\n",
    "print(\"True output values:\\n\", y[0:5])"
   ]
  },
  {
   "cell_type": "code",
   "execution_count": null,
   "metadata": {},
   "outputs": [],
   "source": []
  }
 ],
 "metadata": {
  "kernelspec": {
   "display_name": "Python 3",
   "language": "python",
   "name": "python3"
  },
  "language_info": {
   "codemirror_mode": {
    "name": "ipython",
    "version": 3
   },
   "file_extension": ".py",
   "mimetype": "text/x-python",
   "name": "python",
   "nbconvert_exporter": "python",
   "pygments_lexer": "ipython3",
   "version": "3.7.7"
  }
 },
 "nbformat": 4,
 "nbformat_minor": 4
}
